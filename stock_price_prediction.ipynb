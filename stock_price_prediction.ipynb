{
  "nbformat": 4,
  "nbformat_minor": 0,
  "metadata": {
    "colab": {
      "name": "stock price prediction.ipynb",
      "provenance": [],
      "collapsed_sections": [],
      "authorship_tag": "ABX9TyMUJchKrcQslKtspfQhJGxo",
      "include_colab_link": true
    },
    "kernelspec": {
      "name": "python3",
      "display_name": "Python 3"
    }
  },
  "cells": [
    {
      "cell_type": "markdown",
      "metadata": {
        "id": "view-in-github",
        "colab_type": "text"
      },
      "source": [
        "<a href=\"https://colab.research.google.com/github/Akarshi2009/Stock-price-prediction/blob/main/stock_price_prediction.ipynb\" target=\"_parent\"><img src=\"https://colab.research.google.com/assets/colab-badge.svg\" alt=\"Open In Colab\"/></a>"
      ]
    },
    {
      "cell_type": "code",
      "metadata": {
        "id": "C51C9xaIbsWe"
      },
      "source": [
        "#importing libraries\n",
        "import numpy as np\n",
        "import pandas as pd\n",
        "import datetime\n",
        "import matplotlib.pyplot as plt\n"
      ],
      "execution_count": null,
      "outputs": []
    },
    {
      "cell_type": "code",
      "metadata": {
        "id": "sBG772D6caKV"
      },
      "source": [
        "# Import dataset\n",
        "data = pd.read_csv('Google_Stock_Price_Train.csv',index_col=\"Date\",parse_dates=True)"
      ],
      "execution_count": null,
      "outputs": []
    },
    {
      "cell_type": "markdown",
      "metadata": {
        "id": "Aqe7foD56EJw"
      },
      "source": [
        "# Preprocess data"
      ]
    },
    {
      "cell_type": "code",
      "metadata": {
        "colab": {
          "base_uri": "https://localhost:8080/"
        },
        "id": "2Q6QcKdRcnPg",
        "outputId": "90bac8d6-320c-4c0d-a986-ac8c828bf47b"
      },
      "source": [
        "data.isna().any()"
      ],
      "execution_count": null,
      "outputs": [
        {
          "output_type": "execute_result",
          "data": {
            "text/plain": [
              "Open      False\n",
              "High      False\n",
              "Low       False\n",
              "Close     False\n",
              "Volume    False\n",
              "dtype: bool"
            ]
          },
          "metadata": {
            "tags": []
          },
          "execution_count": 26
        }
      ]
    },
    {
      "cell_type": "code",
      "metadata": {
        "colab": {
          "base_uri": "https://localhost:8080/",
          "height": 225
        },
        "id": "KJFE7-ZZdERc",
        "outputId": "2b150c23-9f7e-4c7e-c746-d590575966b2"
      },
      "source": [
        "data.head()\n"
      ],
      "execution_count": null,
      "outputs": [
        {
          "output_type": "execute_result",
          "data": {
            "text/html": [
              "<div>\n",
              "<style scoped>\n",
              "    .dataframe tbody tr th:only-of-type {\n",
              "        vertical-align: middle;\n",
              "    }\n",
              "\n",
              "    .dataframe tbody tr th {\n",
              "        vertical-align: top;\n",
              "    }\n",
              "\n",
              "    .dataframe thead th {\n",
              "        text-align: right;\n",
              "    }\n",
              "</style>\n",
              "<table border=\"1\" class=\"dataframe\">\n",
              "  <thead>\n",
              "    <tr style=\"text-align: right;\">\n",
              "      <th></th>\n",
              "      <th>Open</th>\n",
              "      <th>High</th>\n",
              "      <th>Low</th>\n",
              "      <th>Close</th>\n",
              "      <th>Volume</th>\n",
              "    </tr>\n",
              "    <tr>\n",
              "      <th>Date</th>\n",
              "      <th></th>\n",
              "      <th></th>\n",
              "      <th></th>\n",
              "      <th></th>\n",
              "      <th></th>\n",
              "    </tr>\n",
              "  </thead>\n",
              "  <tbody>\n",
              "    <tr>\n",
              "      <th>2012-01-03</th>\n",
              "      <td>325.25</td>\n",
              "      <td>332.83</td>\n",
              "      <td>324.97</td>\n",
              "      <td>663.59</td>\n",
              "      <td>7,380,500</td>\n",
              "    </tr>\n",
              "    <tr>\n",
              "      <th>2012-01-04</th>\n",
              "      <td>331.27</td>\n",
              "      <td>333.87</td>\n",
              "      <td>329.08</td>\n",
              "      <td>666.45</td>\n",
              "      <td>5,749,400</td>\n",
              "    </tr>\n",
              "    <tr>\n",
              "      <th>2012-01-05</th>\n",
              "      <td>329.83</td>\n",
              "      <td>330.75</td>\n",
              "      <td>326.89</td>\n",
              "      <td>657.21</td>\n",
              "      <td>6,590,300</td>\n",
              "    </tr>\n",
              "    <tr>\n",
              "      <th>2012-01-06</th>\n",
              "      <td>328.34</td>\n",
              "      <td>328.77</td>\n",
              "      <td>323.68</td>\n",
              "      <td>648.24</td>\n",
              "      <td>5,405,900</td>\n",
              "    </tr>\n",
              "    <tr>\n",
              "      <th>2012-01-09</th>\n",
              "      <td>322.04</td>\n",
              "      <td>322.29</td>\n",
              "      <td>309.46</td>\n",
              "      <td>620.76</td>\n",
              "      <td>11,688,800</td>\n",
              "    </tr>\n",
              "  </tbody>\n",
              "</table>\n",
              "</div>"
            ],
            "text/plain": [
              "              Open    High     Low   Close      Volume\n",
              "Date                                                  \n",
              "2012-01-03  325.25  332.83  324.97  663.59   7,380,500\n",
              "2012-01-04  331.27  333.87  329.08  666.45   5,749,400\n",
              "2012-01-05  329.83  330.75  326.89  657.21   6,590,300\n",
              "2012-01-06  328.34  328.77  323.68  648.24   5,405,900\n",
              "2012-01-09  322.04  322.29  309.46  620.76  11,688,800"
            ]
          },
          "metadata": {
            "tags": []
          },
          "execution_count": 27
        }
      ]
    },
    {
      "cell_type": "code",
      "metadata": {
        "id": "LuGn0YTzdZGW"
      },
      "source": [
        "#changing object to float type\n",
        "data[\"Volume\"] = data[\"Volume\"].str.replace(',', '').astype(float)\n",
        "data[\"Close\"] = data[\"Close\"].str.replace(',', '').astype(float)\n"
      ],
      "execution_count": null,
      "outputs": []
    },
    {
      "cell_type": "code",
      "metadata": {
        "colab": {
          "base_uri": "https://localhost:8080/",
          "height": 335
        },
        "id": "_SiTUdgcdIwk",
        "outputId": "6f2791a8-aacf-43e4-9810-6e4b7e8a658d"
      },
      "source": [
        "#plotting open values over year 2012-2016\n",
        "data['Open'].plot(figsize=(20,5))"
      ],
      "execution_count": null,
      "outputs": [
        {
          "output_type": "execute_result",
          "data": {
            "text/plain": [
              "<matplotlib.axes._subplots.AxesSubplot at 0x7efc5eb33ed0>"
            ]
          },
          "metadata": {
            "tags": []
          },
          "execution_count": 29
        },
        {
          "output_type": "display_data",
          "data": {
            "image/png": "[encoded data removed]",
            "text/plain": [
              "<Figure size 1440x360 with 1 Axes>"
            ]
          },
          "metadata": {
            "tags": [],
            "needs_background": "light"
          }
        }
      ]
    },
    {
      "cell_type": "code",
      "metadata": {
        "colab": {
          "base_uri": "https://localhost:8080/",
          "height": 521
        },
        "id": "OLt94keLdkAC",
        "outputId": "eb0ac579-c230-4aaa-92eb-884af04ecc43"
      },
      "source": [
        "#calculating rolling mean\n",
        "data.rolling(7).mean().head(15)"
      ],
      "execution_count": null,
      "outputs": [
        {
          "output_type": "execute_result",
          "data": {
            "text/html": [
              "<div>\n",
              "<style scoped>\n",
              "    .dataframe tbody tr th:only-of-type {\n",
              "        vertical-align: middle;\n",
              "    }\n",
              "\n",
              "    .dataframe tbody tr th {\n",
              "        vertical-align: top;\n",
              "    }\n",
              "\n",
              "    .dataframe thead th {\n",
              "        text-align: right;\n",
              "    }\n",
              "</style>\n",
              "<table border=\"1\" class=\"dataframe\">\n",
              "  <thead>\n",
              "    <tr style=\"text-align: right;\">\n",
              "      <th></th>\n",
              "      <th>Open</th>\n",
              "      <th>High</th>\n",
              "      <th>Low</th>\n",
              "      <th>Close</th>\n",
              "      <th>Volume</th>\n",
              "    </tr>\n",
              "    <tr>\n",
              "      <th>Date</th>\n",
              "      <th></th>\n",
              "      <th></th>\n",
              "      <th></th>\n",
              "      <th></th>\n",
              "      <th></th>\n",
              "    </tr>\n",
              "  </thead>\n",
              "  <tbody>\n",
              "    <tr>\n",
              "      <th>2012-01-03</th>\n",
              "      <td>NaN</td>\n",
              "      <td>NaN</td>\n",
              "      <td>NaN</td>\n",
              "      <td>NaN</td>\n",
              "      <td>NaN</td>\n",
              "    </tr>\n",
              "    <tr>\n",
              "      <th>2012-01-04</th>\n",
              "      <td>NaN</td>\n",
              "      <td>NaN</td>\n",
              "      <td>NaN</td>\n",
              "      <td>NaN</td>\n",
              "      <td>NaN</td>\n",
              "    </tr>\n",
              "    <tr>\n",
              "      <th>2012-01-05</th>\n",
              "      <td>NaN</td>\n",
              "      <td>NaN</td>\n",
              "      <td>NaN</td>\n",
              "      <td>NaN</td>\n",
              "      <td>NaN</td>\n",
              "    </tr>\n",
              "    <tr>\n",
              "      <th>2012-01-06</th>\n",
              "      <td>NaN</td>\n",
              "      <td>NaN</td>\n",
              "      <td>NaN</td>\n",
              "      <td>NaN</td>\n",
              "      <td>NaN</td>\n",
              "    </tr>\n",
              "    <tr>\n",
              "      <th>2012-01-09</th>\n",
              "      <td>NaN</td>\n",
              "      <td>NaN</td>\n",
              "      <td>NaN</td>\n",
              "      <td>NaN</td>\n",
              "      <td>NaN</td>\n",
              "    </tr>\n",
              "    <tr>\n",
              "      <th>2012-01-10</th>\n",
              "      <td>NaN</td>\n",
              "      <td>NaN</td>\n",
              "      <td>NaN</td>\n",
              "      <td>NaN</td>\n",
              "      <td>NaN</td>\n",
              "    </tr>\n",
              "    <tr>\n",
              "      <th>2012-01-11</th>\n",
              "      <td>323.002857</td>\n",
              "      <td>325.392857</td>\n",
              "      <td>318.682857</td>\n",
              "      <td>643.132857</td>\n",
              "      <td>7.208100e+06</td>\n",
              "    </tr>\n",
              "    <tr>\n",
              "      <th>2012-01-12</th>\n",
              "      <td>321.457143</td>\n",
              "      <td>322.882857</td>\n",
              "      <td>316.841429</td>\n",
              "      <td>638.037143</td>\n",
              "      <td>6.691514e+06</td>\n",
              "    </tr>\n",
              "    <tr>\n",
              "      <th>2012-01-13</th>\n",
              "      <td>318.698571</td>\n",
              "      <td>319.801429</td>\n",
              "      <td>314.025714</td>\n",
              "      <td>631.870000</td>\n",
              "      <td>6.531857e+06</td>\n",
              "    </tr>\n",
              "    <tr>\n",
              "      <th>2012-01-17</th>\n",
              "      <td>316.552857</td>\n",
              "      <td>317.524286</td>\n",
              "      <td>311.851429</td>\n",
              "      <td>627.534286</td>\n",
              "      <td>6.137929e+06</td>\n",
              "    </tr>\n",
              "    <tr>\n",
              "      <th>2012-01-18</th>\n",
              "      <td>314.238571</td>\n",
              "      <td>315.674286</td>\n",
              "      <td>309.882857</td>\n",
              "      <td>625.097143</td>\n",
              "      <td>6.157657e+06</td>\n",
              "    </tr>\n",
              "    <tr>\n",
              "      <th>2012-01-19</th>\n",
              "      <td>313.847143</td>\n",
              "      <td>315.247143</td>\n",
              "      <td>310.610000</td>\n",
              "      <td>627.534286</td>\n",
              "      <td>6.296086e+06</td>\n",
              "    </tr>\n",
              "    <tr>\n",
              "      <th>2012-01-20</th>\n",
              "      <td>311.055714</td>\n",
              "      <td>312.201429</td>\n",
              "      <td>308.104286</td>\n",
              "      <td>622.242857</td>\n",
              "      <td>8.068629e+06</td>\n",
              "    </tr>\n",
              "    <tr>\n",
              "      <th>2012-01-23</th>\n",
              "      <td>308.387143</td>\n",
              "      <td>309.302857</td>\n",
              "      <td>305.402857</td>\n",
              "      <td>616.481429</td>\n",
              "      <td>8.359129e+06</td>\n",
              "    </tr>\n",
              "    <tr>\n",
              "      <th>2012-01-24</th>\n",
              "      <td>305.192857</td>\n",
              "      <td>306.085714</td>\n",
              "      <td>301.951429</td>\n",
              "      <td>609.541429</td>\n",
              "      <td>8.697700e+06</td>\n",
              "    </tr>\n",
              "  </tbody>\n",
              "</table>\n",
              "</div>"
            ],
            "text/plain": [
              "                  Open        High         Low       Close        Volume\n",
              "Date                                                                    \n",
              "2012-01-03         NaN         NaN         NaN         NaN           NaN\n",
              "2012-01-04         NaN         NaN         NaN         NaN           NaN\n",
              "2012-01-05         NaN         NaN         NaN         NaN           NaN\n",
              "2012-01-06         NaN         NaN         NaN         NaN           NaN\n",
              "2012-01-09         NaN         NaN         NaN         NaN           NaN\n",
              "2012-01-10         NaN         NaN         NaN         NaN           NaN\n",
              "2012-01-11  323.002857  325.392857  318.682857  643.132857  7.208100e+06\n",
              "2012-01-12  321.457143  322.882857  316.841429  638.037143  6.691514e+06\n",
              "2012-01-13  318.698571  319.801429  314.025714  631.870000  6.531857e+06\n",
              "2012-01-17  316.552857  317.524286  311.851429  627.534286  6.137929e+06\n",
              "2012-01-18  314.238571  315.674286  309.882857  625.097143  6.157657e+06\n",
              "2012-01-19  313.847143  315.247143  310.610000  627.534286  6.296086e+06\n",
              "2012-01-20  311.055714  312.201429  308.104286  622.242857  8.068629e+06\n",
              "2012-01-23  308.387143  309.302857  305.402857  616.481429  8.359129e+06\n",
              "2012-01-24  305.192857  306.085714  301.951429  609.541429  8.697700e+06"
            ]
          },
          "metadata": {
            "tags": []
          },
          "execution_count": 30
        }
      ]
    },
    {
      "cell_type": "code",
      "metadata": {
        "id": "-PMFl35HeFhk"
      },
      "source": [
        "#Normalization\n",
        "from sklearn.preprocessing import MinMaxScaler\n",
        "scaler = MinMaxScaler(feature_range = (0, 1))\n",
        "train_scaled = scaler.fit_transform(train)"
      ],
      "execution_count": null,
      "outputs": []
    },
    {
      "cell_type": "code",
      "metadata": {
        "id": "utAgTsh6eKuE"
      },
      "source": [
        "#creating timesteps in order divide data in x_train and y_train\n",
        "x_train = []\n",
        "y_train = []\n",
        "for i in range(60, 1258):\n",
        "    x_train.append(train_scaled[i-60:i, 0])\n",
        "    y_train.append(train_scaled[i, 0])\n",
        "x_train, y_train = np.array(x_train), np.array(y_train)\n",
        "#Reshaping Data in 3D\n",
        "x_train = np.reshape(x_train, (x_train.shape[0], x_train.shape[1], 1))"
      ],
      "execution_count": null,
      "outputs": []
    },
    {
      "cell_type": "markdown",
      "metadata": {
        "id": "7dtpIY2I9T94"
      },
      "source": [
        "**Building** **Model**"
      ]
    },
    {
      "cell_type": "code",
      "metadata": {
        "id": "qj4wscnrePkz"
      },
      "source": [
        "#Building Model\n",
        "from keras.models import Sequential\n",
        "from keras.layers import Dense\n",
        "from keras.layers import LSTM\n",
        "from keras.layers import Dropout\n",
        "regressor = Sequential()"
      ],
      "execution_count": null,
      "outputs": []
    },
    {
      "cell_type": "code",
      "metadata": {
        "id": "-2EX6RBMeaId"
      },
      "source": [
        "# first LSTM \n",
        "regressor.add(LSTM(units = 50, return_sequences = True, input_shape = (x_train.shape[1], 1)))\n",
        "regressor.add(Dropout(0.2))\n",
        "\n",
        "# second LSTM layer\n",
        "regressor.add(LSTM(units = 50, return_sequences = True))\n",
        "regressor.add(Dropout(0.2))\n",
        "\n",
        "# third LSTM layer\n",
        "regressor.add(LSTM(units = 50, return_sequences = True))\n",
        "regressor.add(Dropout(0.2))\n",
        "\n",
        "# fourth LSTM layer\n",
        "regressor.add(LSTM(units = 50))\n",
        "regressor.add(Dropout(0.2))\n",
        "\n",
        "# output layer\n",
        "regressor.add(Dense(units = 1))\n",
        "\n"
      ],
      "execution_count": null,
      "outputs": []
    },
    {
      "cell_type": "code",
      "metadata": {
        "colab": {
          "base_uri": "https://localhost:8080/"
        },
        "id": "bEs-graSef1i",
        "outputId": "ed049798-3fb6-4a8b-d1a1-b7371b19e5af"
      },
      "source": [
        "regressor.compile(optimizer = 'adam', loss = 'mean_squared_error')\n",
        "regressor.fit(x_train, y_train, epochs = 100, batch_size = 32)\n"
      ],
      "execution_count": null,
      "outputs": [
        {
          "output_type": "stream",
          "text": [
            "Epoch 1/100\n",
            "38/38 [==============================] - 11s 107ms/step - loss: 0.1032\n",
            "Epoch 2/100\n",
            "38/38 [==============================] - 4s 110ms/step - loss: 0.0069\n",
            "Epoch 3/100\n",
            "38/38 [==============================] - 4s 112ms/step - loss: 0.0060\n",
            "Epoch 4/100\n",
            "38/38 [==============================] - 4s 112ms/step - loss: 0.0056\n",
            "Epoch 5/100\n",
            "38/38 [==============================] - 4s 113ms/step - loss: 0.0063\n",
            "Epoch 6/100\n",
            "38/38 [==============================] - 4s 113ms/step - loss: 0.0044\n",
            "Epoch 7/100\n",
            "38/38 [==============================] - 4s 113ms/step - loss: 0.0044\n",
            "Epoch 8/100\n",
            "38/38 [==============================] - 4s 113ms/step - loss: 0.0041\n",
            "Epoch 9/100\n",
            "38/38 [==============================] - 4s 114ms/step - loss: 0.0053\n",
            "Epoch 10/100\n",
            "38/38 [==============================] - 4s 114ms/step - loss: 0.0044\n",
            "Epoch 11/100\n",
            "38/38 [==============================] - 4s 114ms/step - loss: 0.0057\n",
            "Epoch 12/100\n",
            "38/38 [==============================] - 4s 113ms/step - loss: 0.0039\n",
            "Epoch 13/100\n",
            "38/38 [==============================] - 4s 115ms/step - loss: 0.0048\n",
            "Epoch 14/100\n",
            "38/38 [==============================] - 4s 115ms/step - loss: 0.0040\n",
            "Epoch 15/100\n",
            "38/38 [==============================] - 4s 114ms/step - loss: 0.0036\n",
            "Epoch 16/100\n",
            "38/38 [==============================] - 4s 115ms/step - loss: 0.0037\n",
            "Epoch 17/100\n",
            "38/38 [==============================] - 4s 115ms/step - loss: 0.0037\n",
            "Epoch 18/100\n",
            "38/38 [==============================] - 4s 115ms/step - loss: 0.0035\n",
            "Epoch 19/100\n",
            "38/38 [==============================] - 4s 115ms/step - loss: 0.0037\n",
            "Epoch 20/100\n",
            "38/38 [==============================] - 4s 116ms/step - loss: 0.0035\n",
            "Epoch 21/100\n",
            "38/38 [==============================] - 4s 117ms/step - loss: 0.0030\n",
            "Epoch 22/100\n",
            "38/38 [==============================] - 4s 115ms/step - loss: 0.0035\n",
            "Epoch 23/100\n",
            "38/38 [==============================] - 4s 117ms/step - loss: 0.0033\n",
            "Epoch 24/100\n",
            "38/38 [==============================] - 4s 115ms/step - loss: 0.0041\n",
            "Epoch 25/100\n",
            "38/38 [==============================] - 4s 115ms/step - loss: 0.0038\n",
            "Epoch 26/100\n",
            "38/38 [==============================] - 4s 116ms/step - loss: 0.0030\n",
            "Epoch 27/100\n",
            "38/38 [==============================] - 4s 116ms/step - loss: 0.0029\n",
            "Epoch 28/100\n",
            "38/38 [==============================] - 4s 115ms/step - loss: 0.0035\n",
            "Epoch 29/100\n",
            "38/38 [==============================] - 4s 115ms/step - loss: 0.0030\n",
            "Epoch 30/100\n",
            "38/38 [==============================] - 4s 114ms/step - loss: 0.0032\n",
            "Epoch 31/100\n",
            "38/38 [==============================] - 4s 113ms/step - loss: 0.0032\n",
            "Epoch 32/100\n",
            "38/38 [==============================] - 4s 113ms/step - loss: 0.0026\n",
            "Epoch 33/100\n",
            "38/38 [==============================] - 4s 113ms/step - loss: 0.0030\n",
            "Epoch 34/100\n",
            "38/38 [==============================] - 4s 114ms/step - loss: 0.0029\n",
            "Epoch 35/100\n",
            "38/38 [==============================] - 4s 113ms/step - loss: 0.0027\n",
            "Epoch 36/100\n",
            "38/38 [==============================] - 4s 112ms/step - loss: 0.0024\n",
            "Epoch 37/100\n",
            "38/38 [==============================] - 4s 113ms/step - loss: 0.0027\n",
            "Epoch 38/100\n",
            "38/38 [==============================] - 4s 113ms/step - loss: 0.0029\n",
            "Epoch 39/100\n",
            "38/38 [==============================] - 4s 115ms/step - loss: 0.0029\n",
            "Epoch 40/100\n",
            "38/38 [==============================] - 4s 114ms/step - loss: 0.0027\n",
            "Epoch 41/100\n",
            "38/38 [==============================] - 4s 115ms/step - loss: 0.0026\n",
            "Epoch 42/100\n",
            "38/38 [==============================] - 4s 114ms/step - loss: 0.0027\n",
            "Epoch 43/100\n",
            "38/38 [==============================] - 4s 114ms/step - loss: 0.0026\n",
            "Epoch 44/100\n",
            "38/38 [==============================] - 4s 117ms/step - loss: 0.0027\n",
            "Epoch 45/100\n",
            "38/38 [==============================] - 4s 115ms/step - loss: 0.0026\n",
            "Epoch 46/100\n",
            "38/38 [==============================] - 4s 115ms/step - loss: 0.0029\n",
            "Epoch 47/100\n",
            "38/38 [==============================] - 4s 114ms/step - loss: 0.0025\n",
            "Epoch 48/100\n",
            "38/38 [==============================] - 4s 115ms/step - loss: 0.0027\n",
            "Epoch 49/100\n",
            "38/38 [==============================] - 4s 114ms/step - loss: 0.0025\n",
            "Epoch 50/100\n",
            "38/38 [==============================] - 4s 112ms/step - loss: 0.0022\n",
            "Epoch 51/100\n",
            "38/38 [==============================] - 4s 115ms/step - loss: 0.0026\n",
            "Epoch 52/100\n",
            "38/38 [==============================] - 4s 114ms/step - loss: 0.0023\n",
            "Epoch 53/100\n",
            "38/38 [==============================] - 4s 113ms/step - loss: 0.0025\n",
            "Epoch 54/100\n",
            "38/38 [==============================] - 4s 113ms/step - loss: 0.0025\n",
            "Epoch 55/100\n",
            "38/38 [==============================] - 4s 113ms/step - loss: 0.0025\n",
            "Epoch 56/100\n",
            "38/38 [==============================] - 4s 114ms/step - loss: 0.0019\n",
            "Epoch 57/100\n",
            "38/38 [==============================] - 4s 114ms/step - loss: 0.0022\n",
            "Epoch 58/100\n",
            "38/38 [==============================] - 4s 114ms/step - loss: 0.0019\n",
            "Epoch 59/100\n",
            "38/38 [==============================] - 4s 114ms/step - loss: 0.0027\n",
            "Epoch 60/100\n",
            "38/38 [==============================] - 4s 115ms/step - loss: 0.0026\n",
            "Epoch 61/100\n",
            "38/38 [==============================] - 4s 114ms/step - loss: 0.0022\n",
            "Epoch 62/100\n",
            "38/38 [==============================] - 4s 115ms/step - loss: 0.0024\n",
            "Epoch 63/100\n",
            "38/38 [==============================] - 4s 113ms/step - loss: 0.0020\n",
            "Epoch 64/100\n",
            "38/38 [==============================] - 4s 113ms/step - loss: 0.0019\n",
            "Epoch 65/100\n",
            "38/38 [==============================] - 4s 113ms/step - loss: 0.0022\n",
            "Epoch 66/100\n",
            "38/38 [==============================] - 4s 113ms/step - loss: 0.0022\n",
            "Epoch 67/100\n",
            "38/38 [==============================] - 4s 113ms/step - loss: 0.0021\n",
            "Epoch 68/100\n",
            "38/38 [==============================] - 4s 112ms/step - loss: 0.0017\n",
            "Epoch 69/100\n",
            "38/38 [==============================] - 4s 113ms/step - loss: 0.0017\n",
            "Epoch 70/100\n",
            "38/38 [==============================] - 4s 115ms/step - loss: 0.0019\n",
            "Epoch 71/100\n",
            "38/38 [==============================] - 4s 113ms/step - loss: 0.0022\n",
            "Epoch 72/100\n",
            "38/38 [==============================] - 4s 113ms/step - loss: 0.0019\n",
            "Epoch 73/100\n",
            "38/38 [==============================] - 4s 113ms/step - loss: 0.0019\n",
            "Epoch 74/100\n",
            "38/38 [==============================] - 4s 113ms/step - loss: 0.0019\n",
            "Epoch 75/100\n",
            "38/38 [==============================] - 4s 114ms/step - loss: 0.0018\n",
            "Epoch 76/100\n",
            "38/38 [==============================] - 4s 114ms/step - loss: 0.0015\n",
            "Epoch 77/100\n",
            "38/38 [==============================] - 4s 112ms/step - loss: 0.0017\n",
            "Epoch 78/100\n",
            "38/38 [==============================] - 4s 113ms/step - loss: 0.0018\n",
            "Epoch 79/100\n",
            "38/38 [==============================] - 4s 114ms/step - loss: 0.0018\n",
            "Epoch 80/100\n",
            "38/38 [==============================] - 4s 112ms/step - loss: 0.0016\n",
            "Epoch 81/100\n",
            "38/38 [==============================] - 4s 113ms/step - loss: 0.0017\n",
            "Epoch 82/100\n",
            "38/38 [==============================] - 4s 112ms/step - loss: 0.0016\n",
            "Epoch 83/100\n",
            "38/38 [==============================] - 4s 113ms/step - loss: 0.0016\n",
            "Epoch 84/100\n",
            "38/38 [==============================] - 4s 114ms/step - loss: 0.0017\n",
            "Epoch 85/100\n",
            "38/38 [==============================] - 4s 116ms/step - loss: 0.0019\n",
            "Epoch 86/100\n",
            "38/38 [==============================] - 4s 116ms/step - loss: 0.0016\n",
            "Epoch 87/100\n",
            "38/38 [==============================] - 4s 115ms/step - loss: 0.0015\n",
            "Epoch 88/100\n",
            "38/38 [==============================] - 4s 116ms/step - loss: 0.0016\n",
            "Epoch 89/100\n",
            "38/38 [==============================] - 4s 114ms/step - loss: 0.0015\n",
            "Epoch 90/100\n",
            "38/38 [==============================] - 4s 115ms/step - loss: 0.0014\n",
            "Epoch 91/100\n",
            "38/38 [==============================] - 4s 115ms/step - loss: 0.0015\n",
            "Epoch 92/100\n",
            "38/38 [==============================] - 4s 115ms/step - loss: 0.0015\n",
            "Epoch 93/100\n",
            "38/38 [==============================] - 4s 117ms/step - loss: 0.0013\n",
            "Epoch 94/100\n",
            "38/38 [==============================] - 4s 118ms/step - loss: 0.0016\n",
            "Epoch 95/100\n",
            "38/38 [==============================] - 4s 116ms/step - loss: 0.0016\n",
            "Epoch 96/100\n",
            "38/38 [==============================] - 4s 116ms/step - loss: 0.0014\n",
            "Epoch 97/100\n",
            "38/38 [==============================] - 4s 115ms/step - loss: 0.0013\n",
            "Epoch 98/100\n",
            "38/38 [==============================] - 4s 115ms/step - loss: 0.0015\n",
            "Epoch 99/100\n",
            "38/38 [==============================] - 4s 117ms/step - loss: 0.0015\n",
            "Epoch 100/100\n",
            "38/38 [==============================] - 4s 117ms/step - loss: 0.0013\n"
          ],
          "name": "stdout"
        },
        {
          "output_type": "execute_result",
          "data": {
            "text/plain": [
              "<tensorflow.python.keras.callbacks.History at 0x7efc5e40f710>"
            ]
          },
          "metadata": {
            "tags": []
          },
          "execution_count": 43
        }
      ]
    },
    {
      "cell_type": "code",
      "metadata": {
        "id": "dwT8FyNRemtR"
      },
      "source": [
        "#Import test data\n",
        "data_test = pd.read_csv('Google_Stock_Price_Test.csv',index_col=\"Date\",parse_dates=True)"
      ],
      "execution_count": null,
      "outputs": []
    },
    {
      "cell_type": "code",
      "metadata": {
        "id": "Iu2_-ayCe_qM"
      },
      "source": [
        "real_price = data_test.iloc[:, 1:2].values"
      ],
      "execution_count": null,
      "outputs": []
    },
    {
      "cell_type": "code",
      "metadata": {
        "colab": {
          "base_uri": "https://localhost:8080/",
          "height": 225
        },
        "id": "j5YjALz7er2T",
        "outputId": "b2cbb01b-972e-4cab-d6b5-74817a1d1177"
      },
      "source": [
        "data_test.head()"
      ],
      "execution_count": null,
      "outputs": [
        {
          "output_type": "execute_result",
          "data": {
            "text/html": [
              "<div>\n",
              "<style scoped>\n",
              "    .dataframe tbody tr th:only-of-type {\n",
              "        vertical-align: middle;\n",
              "    }\n",
              "\n",
              "    .dataframe tbody tr th {\n",
              "        vertical-align: top;\n",
              "    }\n",
              "\n",
              "    .dataframe thead th {\n",
              "        text-align: right;\n",
              "    }\n",
              "</style>\n",
              "<table border=\"1\" class=\"dataframe\">\n",
              "  <thead>\n",
              "    <tr style=\"text-align: right;\">\n",
              "      <th></th>\n",
              "      <th>Open</th>\n",
              "      <th>High</th>\n",
              "      <th>Low</th>\n",
              "      <th>Close</th>\n",
              "      <th>Volume</th>\n",
              "    </tr>\n",
              "    <tr>\n",
              "      <th>Date</th>\n",
              "      <th></th>\n",
              "      <th></th>\n",
              "      <th></th>\n",
              "      <th></th>\n",
              "      <th></th>\n",
              "    </tr>\n",
              "  </thead>\n",
              "  <tbody>\n",
              "    <tr>\n",
              "      <th>2017-01-03</th>\n",
              "      <td>778.81</td>\n",
              "      <td>789.63</td>\n",
              "      <td>775.80</td>\n",
              "      <td>786.14</td>\n",
              "      <td>1,657,300</td>\n",
              "    </tr>\n",
              "    <tr>\n",
              "      <th>2017-01-04</th>\n",
              "      <td>788.36</td>\n",
              "      <td>791.34</td>\n",
              "      <td>783.16</td>\n",
              "      <td>786.90</td>\n",
              "      <td>1,073,000</td>\n",
              "    </tr>\n",
              "    <tr>\n",
              "      <th>2017-01-05</th>\n",
              "      <td>786.08</td>\n",
              "      <td>794.48</td>\n",
              "      <td>785.02</td>\n",
              "      <td>794.02</td>\n",
              "      <td>1,335,200</td>\n",
              "    </tr>\n",
              "    <tr>\n",
              "      <th>2017-01-06</th>\n",
              "      <td>795.26</td>\n",
              "      <td>807.90</td>\n",
              "      <td>792.20</td>\n",
              "      <td>806.15</td>\n",
              "      <td>1,640,200</td>\n",
              "    </tr>\n",
              "    <tr>\n",
              "      <th>2017-01-09</th>\n",
              "      <td>806.40</td>\n",
              "      <td>809.97</td>\n",
              "      <td>802.83</td>\n",
              "      <td>806.65</td>\n",
              "      <td>1,272,400</td>\n",
              "    </tr>\n",
              "  </tbody>\n",
              "</table>\n",
              "</div>"
            ],
            "text/plain": [
              "              Open    High     Low   Close     Volume\n",
              "Date                                                 \n",
              "2017-01-03  778.81  789.63  775.80  786.14  1,657,300\n",
              "2017-01-04  788.36  791.34  783.16  786.90  1,073,000\n",
              "2017-01-05  786.08  794.48  785.02  794.02  1,335,200\n",
              "2017-01-06  795.26  807.90  792.20  806.15  1,640,200\n",
              "2017-01-09  806.40  809.97  802.83  806.65  1,272,400"
            ]
          },
          "metadata": {
            "tags": []
          },
          "execution_count": 46
        }
      ]
    },
    {
      "cell_type": "code",
      "metadata": {
        "id": "R8Z0g1a6fBq8"
      },
      "source": [
        "#converting object type to float type data\n",
        "data_test[\"Volume\"] = data_test[\"Volume\"].str.replace(',', '').astype(float)"
      ],
      "execution_count": null,
      "outputs": []
    },
    {
      "cell_type": "code",
      "metadata": {
        "id": "r9YEfqjWfIfE"
      },
      "source": [
        "test_set=data_test['Open']\n",
        "test_set=pd.DataFrame(test_set)"
      ],
      "execution_count": null,
      "outputs": []
    },
    {
      "cell_type": "code",
      "metadata": {
        "id": "WqDqnXCafciK"
      },
      "source": [
        "#Creating Timesteps\n",
        "data_total = pd.concat((data['Open'], data_test['Open']), axis = 0)\n",
        "inputs = data_total[len(data_total) - len(data_test) - 60:].values\n",
        "inputs = inputs.reshape(-1,1)\n",
        "inputs = scaler.transform(inputs)\n",
        "x_test = []\n",
        "for i in range(60, 80):\n",
        "    x_test.append(inputs[i-60:i, 0])\n",
        "x_test = np.array(x_test)\n",
        "x_test = np.reshape(x_test, (x_test.shape[0], x_test.shape[1], 1))\n",
        "\n",
        "# Evaluating Results\n",
        "predicted_price = regressor.predict(x_test)\n",
        "predicted_price = scaler.inverse_transform(predicted_price)"
      ],
      "execution_count": null,
      "outputs": []
    },
    {
      "cell_type": "code",
      "metadata": {
        "colab": {
          "base_uri": "https://localhost:8080/"
        },
        "id": "ftoWGmTlfePN",
        "outputId": "d32365e1-2526-4775-d799-8b3c21a2a27f"
      },
      "source": [
        "predicted_price=pd.DataFrame(predicted_price)\n",
        "predicted_price.info()"
      ],
      "execution_count": null,
      "outputs": [
        {
          "output_type": "stream",
          "text": [
            "<class 'pandas.core.frame.DataFrame'>\n",
            "RangeIndex: 20 entries, 0 to 19\n",
            "Data columns (total 1 columns):\n",
            " #   Column  Non-Null Count  Dtype  \n",
            "---  ------  --------------  -----  \n",
            " 0   0       20 non-null     float32\n",
            "dtypes: float32(1)\n",
            "memory usage: 208.0 bytes\n"
          ],
          "name": "stdout"
        }
      ]
    },
    {
      "cell_type": "code",
      "metadata": {
        "colab": {
          "base_uri": "https://localhost:8080/",
          "height": 295
        },
        "id": "4q0pP8R2fkKD",
        "outputId": "e6080813-1794-4fc0-8025-b35bb6f66690"
      },
      "source": [
        "\n",
        "# Visualising the results\n",
        "plt.plot(real_price, color = 'blue', label = 'Real Stock Price')\n",
        "plt.plot(predicted_price, color = 'red', label = 'Predicted Stock Price')\n",
        "plt.title('Stock Price Prediction')\n",
        "plt.xlabel('Time')\n",
        "plt.ylabel('Stock Price')\n",
        "plt.legend()\n",
        "plt.show()\n"
      ],
      "execution_count": null,
      "outputs": [
        {
          "output_type": "display_data",
          "data": {
            "image/png": "[encoded data removed]",
            "text/plain": [
              "<Figure size 432x288 with 1 Axes>"
            ]
          },
          "metadata": {
            "tags": [],
            "needs_background": "light"
          }
        }
      ]
    },
    {
      "cell_type": "code",
      "metadata": {
        "id": "hLF-do5LmSto"
      },
      "source": [
        ""
      ],
      "execution_count": null,
      "outputs": []
    }
  ]
}